{
 "cells": [
  {
   "cell_type": "code",
   "execution_count": 30,
   "metadata": {},
   "outputs": [
    {
     "name": "stdout",
     "output_type": "stream",
     "text": [
      "# positive: 133 (4.9%)\n",
      "# negative: 2577 (95.1%)\n",
      "100%|████████████████████████████████████████| 133/133 [00:00<00:00, 924.00it/s]\n",
      "100%|██████████████████████████████████████| 2577/2577 [00:02<00:00, 920.07it/s]\n",
      "4 channels occurs in 2341 samples\n",
      "5 channels occurs in 350 samples\n",
      "1 channels occurs in 7 samples\n",
      "3 channels occurs in 12 samples\n"
     ]
    }
   ],
   "source": [
    "!python /mnt/skin_cancer_nas/data/torch_generator/preprocessor.py"
   ]
  }
 ],
 "metadata": {
  "kernelspec": {
   "display_name": "Python 3",
   "language": "python",
   "name": "python3"
  },
  "language_info": {
   "codemirror_mode": {
    "name": "ipython",
    "version": 3
   },
   "file_extension": ".py",
   "mimetype": "text/x-python",
   "name": "python",
   "nbconvert_exporter": "python",
   "pygments_lexer": "ipython3",
   "version": "3.6.9"
  }
 },
 "nbformat": 4,
 "nbformat_minor": 4
}
