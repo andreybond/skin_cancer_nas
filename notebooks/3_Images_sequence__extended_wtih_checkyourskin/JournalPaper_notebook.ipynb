{
 "cells": [
  {
   "cell_type": "code",
   "execution_count": 5,
   "metadata": {},
   "outputs": [],
   "source": [
    "from pathlib import Path\n",
    "import os"
   ]
  },
  {
   "cell_type": "code",
   "execution_count": 6,
   "metadata": {},
   "outputs": [],
   "source": [
    "ROOT_PATHS = [  \n",
    "    Path('/mnt/data/interim/_melanoma_20200728_REGISTERED_OCV_WHITE_Split_Channels_MAN_CORRECTED/checkyourskin'),\n",
    "    Path('/mnt/data/interim/_melanoma_20200728_REGISTERED_OCV_WHITE_Split_Channels_MAN_CORRECTED/loc_ALL_WHITE'),\n",
    "    Path('/mnt/data/interim/_melanoma_20200728_REGISTERED_OCV_WHITE_Split_Channels_MAN_CORRECTED/loc_old_colored'),\n",
    "    Path('/mnt/data/interim/_melanoma_20200728_2__checkyourskin_c43_NoDuplicates_14Nov2020')]"
   ]
  },
  {
   "cell_type": "code",
   "execution_count": 7,
   "metadata": {
    "scrolled": false
   },
   "outputs": [],
   "source": [
    "diagnoze2count_dict = {}\n",
    "for root in ROOT_PATHS:\n",
    "#     print('Processing root={}'.format(root))\n",
    "    diagnose_folders = os.listdir(root)\n",
    "    for diagnoze in diagnose_folders:\n",
    "#         print('  Processing diagnoze=[{}]'.format(diagnoze))\n",
    "        diagnoze_count = len(list(os.listdir(os.path.join(root, diagnoze))))\n",
    "#         print('    count={}'.format(diagnoze_count))\n",
    "        if diagnoze not in diagnoze2count_dict:\n",
    "            diagnoze2count_dict[diagnoze] = diagnoze_count\n",
    "        else:\n",
    "            diagnoze2count_dict[diagnoze] = diagnoze2count_dict[diagnoze] + diagnoze_count"
   ]
  },
  {
   "cell_type": "code",
   "execution_count": 8,
   "metadata": {},
   "outputs": [
    {
     "data": {
      "text/plain": [
       "{'L92': 6,\n",
       " 'D48': 101,\n",
       " 'L85.5': 2,\n",
       " 'D03.9': 4,\n",
       " 'D22': 394,\n",
       " 'Rm': 31,\n",
       " 'L57': 9,\n",
       " 'D21.9': 5,\n",
       " 'C44': 165,\n",
       " 'Q80': 6,\n",
       " 'L72': 1,\n",
       " 'L80': 5,\n",
       " 'D09': 6,\n",
       " 'L81.4': 7,\n",
       " 'D18': 36,\n",
       " 'L72.3': 3,\n",
       " 'A63': 6,\n",
       " 'C43': 62,\n",
       " 'Rb': 209,\n",
       " 'PXE': 54,\n",
       " 'D86.3': 5,\n",
       " 'L82': 129,\n",
       " 'L98.9': 42,\n",
       " 'Q82.5': 3,\n",
       " 'L21': 3,\n",
       " 'L85.8': 1,\n",
       " 'nan': 114,\n",
       " 'L94.2': 5,\n",
       " 'L98.8': 6,\n",
       " 'L93': 4,\n",
       " 'L85.1': 1,\n",
       " 'benign': 57,\n",
       " 'L85': 89,\n",
       " 'R': 79,\n",
       " 'D48.5': 3,\n",
       " 'L81': 29,\n",
       " 'M79.81': 3,\n",
       " 'L57.9': 35,\n",
       " 'Rl': 5,\n",
       " 'R ': 6,\n",
       " 'Rs': 6,\n",
       " 'B07': 41,\n",
       " 'L30': 6,\n",
       " 'D23': 144,\n",
       " 'L90.9 ': 1,\n",
       " 'C44imi': 4,\n",
       " 'B07.9': 1,\n",
       " 'L94.0': 3,\n",
       " 'L81.2': 1,\n",
       " 'ada': 171,\n",
       " 'D17': 2,\n",
       " 'cc': 82,\n",
       " 'ref': 437,\n",
       " 'L57.0': 3,\n",
       " 'T': 11,\n",
       " 'L40': 12,\n",
       " 'D81': 1}"
      ]
     },
     "execution_count": 8,
     "metadata": {},
     "output_type": "execute_result"
    }
   ],
   "source": [
    "diagnoze2count_dict"
   ]
  },
  {
   "cell_type": "code",
   "execution_count": null,
   "metadata": {},
   "outputs": [],
   "source": []
  }
 ],
 "metadata": {
  "kernelspec": {
   "display_name": "Python 3",
   "language": "python",
   "name": "python3"
  },
  "language_info": {
   "codemirror_mode": {
    "name": "ipython",
    "version": 3
   },
   "file_extension": ".py",
   "mimetype": "text/x-python",
   "name": "python",
   "nbconvert_exporter": "python",
   "pygments_lexer": "ipython3",
   "version": "3.6.9"
  }
 },
 "nbformat": 4,
 "nbformat_minor": 4
}
