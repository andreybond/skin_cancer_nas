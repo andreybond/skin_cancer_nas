{
 "cells": [
  {
   "cell_type": "code",
   "execution_count": 1,
   "metadata": {},
   "outputs": [
    {
     "data": {
      "text/html": [
       "<style>.container { width:90% !important; }</style>"
      ],
      "text/plain": [
       "<IPython.core.display.HTML object>"
      ]
     },
     "metadata": {},
     "output_type": "display_data"
    }
   ],
   "source": [
    "from IPython.core.display import display, HTML\n",
    "display(HTML(\"<style>.container { width:90% !important; }</style>\"))"
   ]
  },
  {
   "cell_type": "markdown",
   "metadata": {},
   "source": [
    "## Let's save attention maps for ClassSet8 (NewC43Added) Layer2 fold-1 model sorted by type of error.\n",
    "\n",
    "Layer 2 is overall best, and looking at training logs - Fold-1 have shown highest F1 score on validation set."
   ]
  },
  {
   "cell_type": "code",
   "execution_count": 2,
   "metadata": {},
   "outputs": [],
   "source": [
    "# !pip install torchsummary"
   ]
  },
  {
   "cell_type": "code",
   "execution_count": 3,
   "metadata": {},
   "outputs": [],
   "source": [
    "#IMPORTS\n",
    "from tqdm.notebook import tqdm\n",
    "\n",
    "import torch\n",
    "import torchvision\n",
    "import torchvision.transforms as T\n",
    "import numpy as np\n",
    "import matplotlib.pyplot as plt\n",
    "from torchsummary import summary\n",
    "import requests\n",
    "from PIL import Image\n",
    "import os\n",
    "import io\n",
    "import base64\n",
    "\n",
    "from matplotlib.pyplot import imshow"
   ]
  },
  {
   "cell_type": "code",
   "execution_count": 4,
   "metadata": {},
   "outputs": [],
   "source": [
    "import sys\n",
    "sys.path.append(os.path.abspath(\"../../skin_cancer_nas\")) # go to parent dir\n",
    "sys.path.append(os.path.abspath(\"/mnt/skin_cancer_nas/data\"))\n",
    "sys.path.append(os.path.abspath(\"/mnt/skin_cancer_nas/data/torch_generator\"))\n",
    "sys.path.append(os.path.abspath(\"/mnt/skin_cancer_nas/nas/darts_torch\"))\n",
    "\n",
    "sys.path.append('/mnt')\n",
    "sys.path.append('/mnt/skin_cancer_nas')\n",
    "sys.path.append('/mnt/skin_cancer_nas/data/torch_generator')\n",
    "from skin_cancer_nas.data.torch_generator import generator as data_gen\n",
    "from skin_cancer_nas.data.torch_generator import base_classes\n",
    "from skin_cancer_nas.data.torch_generator.config import *\n",
    "\n",
    "from nas.darts_torch import *\n",
    "import cv2\n",
    "\n",
    "\n",
    "\n",
    "# ROOT_PATHS = [  Path('/mnt/data/interim/_melanoma_20200728_REGISTERED_OCV_WHITE_Split_Channels/checkyourskin'),\n",
    "#                 Path('/mnt/data/interim/_melanoma_20200728_REGISTERED_OCV_WHITE_Split_Channels/loc'),\n",
    "#                 Path('/mnt/data/interim/_melanoma_20200728_REGISTERED_OCV_WHITE_Split_Channels/loc_old_colored')]\n",
    "\n",
    "# CLS1 = ClassesDefinition(root_folders_list=ROOT_PATHS, diagnoses_names_list=['c43', 'd03', 'd03.9'], class_name='Melanoma_like_lesions', int_label=0)\n",
    "# CLS2 = ClassesDefinition(root_folders_list=ROOT_PATHS, diagnoses_names_list=['d22', 'd81', 'l81.2','l81.4', 'q82.5'], class_name='Pigmented_benign', int_label=1)\n",
    "# CLS3 = ClassesDefinition(root_folders_list=ROOT_PATHS, diagnoses_names_list=['d86.3', 'l21', 'l57', 'l57.0', 'l82', 'l85', 'l85.1', 'l85.5', 'l85.8', 'q80'], class_name='Keratin_lesions', int_label=2)\n",
    "# CLS4 = ClassesDefinition(root_folders_list=ROOT_PATHS, diagnoses_names_list=['c44', 'c46', 'd09'], class_name='Nonmelanoma_skin_cancer', int_label=3)\n",
    "# CLS5 = ClassesDefinition(root_folders_list=ROOT_PATHS, diagnoses_names_list=['a63', 'd18', 'd21.9', 'd48', 'l92', 'l94.2', 'l98.8', 'pxe', 'b07', 'ada', 'l57.9', 'l98.9'], class_name='Other', int_label=4)\n",
    "\n",
    "# ROOT_PATHS = [  Path('/mnt/data/interim/_melanoma_20200728_REGISTERED_OCV_WHITE_Split_Channels_MAN_CORRECTED/checkyourskin'),\n",
    "#             Path('/mnt/data/interim/_melanoma_20200728_REGISTERED_OCV_WHITE_Split_Channels_MAN_CORRECTED/loc'),\n",
    "#             Path('/mnt/data/interim/_melanoma_20200728_REGISTERED_OCV_WHITE_Split_Channels_MAN_CORRECTED/loc_old_colored'),\n",
    "#             Path('/mnt/data/interim/_melanoma_20200728_2__checkyourskin_c43_NoDuplicates')]\n",
    "\n",
    "# CLS1 = ClassesDefinition(root_folders_list=ROOT_PATHS, diagnoses_names_list=['c43', 'd03', 'd03.9'], class_name='Melanoma_like_lesions', int_label=0)\n",
    "# CLS2 = ClassesDefinition(root_folders_list=ROOT_PATHS, diagnoses_names_list=['d22', 'l81.2','l81.4', 'q82.5'], class_name='Pigmented_benign', int_label=1)   #'d81', \n",
    "# CLS3 = ClassesDefinition(root_folders_list=ROOT_PATHS, diagnoses_names_list=['d86.3', 'l21', 'l57', 'l57.0', 'l82', 'l85', 'l85.1', 'l85.5', 'l85.8', 'q80'], class_name='Keratin_lesions', int_label=2)\n",
    "# CLS4 = ClassesDefinition(root_folders_list=ROOT_PATHS, diagnoses_names_list=['c44', 'c46', 'd09'], class_name='Nonmelanoma_skin_cancer', int_label=3)\n",
    "# CLS5 = ClassesDefinition(root_folders_list=ROOT_PATHS, diagnoses_names_list=['a63', 'd18', 'd21.9', 'd48', 'l92', 'l94.2', 'l98.8', 'pxe', 'b07', 'ada', 'l57.9', 'l98.9'], class_name='Other', int_label=4)\n",
    "\n",
    "\n",
    "ROOT_PATHS = [  Path('/mnt/data/interim/_melanoma_20200728_REGISTERED_OCV_WHITE_Split_Channels_MAN_CORRECTED/checkyourskin'),\n",
    "                Path('/mnt/data/interim/_melanoma_20200728_REGISTERED_OCV_WHITE_Split_Channels_MAN_CORRECTED/loc_ALL_WHITE'),\n",
    "                Path('/mnt/data/interim/_melanoma_20200728_REGISTERED_OCV_WHITE_Split_Channels_MAN_CORRECTED/loc_old_colored'),\n",
    "                Path('/mnt/data/interim/_melanoma_20200728_2__checkyourskin_c43_NoDuplicates_14Nov2020')]\n",
    "\n",
    "CLS1 = ClassesDefinition(root_folders_list=ROOT_PATHS, diagnoses_names_list=['c43', 'd03', 'd03.9'], class_name='Melanoma_like_lesions', int_label=0)\n",
    "CLS2 = ClassesDefinition(root_folders_list=ROOT_PATHS, diagnoses_names_list=['d22', 'l81.2','l81.4', 'q82.5'], class_name='Pigmented_benign', int_label=1)  # 'd81' -> should be l21\n",
    "CLS3 = ClassesDefinition(root_folders_list=ROOT_PATHS, diagnoses_names_list=['d86.3', 'l21', 'l57', 'l57.0', 'l82', 'l85', 'l85.1', 'l85.5', 'l85.8', 'q80'], class_name='Keratin_lesions', int_label=2)\n",
    "CLS4 = ClassesDefinition(root_folders_list=ROOT_PATHS, diagnoses_names_list=['c44', 'c46', 'd09'], class_name='Nonmelanoma_skin_cancer', int_label=3)\n",
    "CLS5 = ClassesDefinition(root_folders_list=ROOT_PATHS, diagnoses_names_list=['a63', 'd18', 'd21.9', 'd48', 'l92', 'l94.2', 'l98.8', 'pxe', 'b07', 'ada', 'l57.9', 'l98.9'], class_name='Other', int_label=4)\n",
    "\n",
    "\n",
    "# CLASSES_SET_1 = [CLS1, CLS2]\n",
    "# CLASSES_SET_2 = [CLS1, CLS2, CLS3]\n",
    "# CLASSES_SET_3 = [CLS1, CLS2, CLS3, CLS4]\n",
    "CLASSES_SET_4 = [ \\\n",
    "    ClassesDefinition(root_folders_list=ROOT_PATHS, diagnoses_names_list=['c43'], class_name='Melanoma', int_label=0), \\\n",
    "    ClassesDefinition(root_folders_list=ROOT_PATHS, diagnoses_names_list=['d22'], class_name='Nevuss', int_label=1) \\\n",
    "]\n",
    "# CLASSES_SET_5 = [ \\\n",
    "#     ClassesDefinition(root_folders_list=ROOT_PATHS, diagnoses_names_list=['c43'], class_name='Melanoma', int_label=0), \\\n",
    "#     ClassesDefinition(root_folders_list=ROOT_PATHS, diagnoses_names_list=['d22'], class_name='Nevuss', int_label=1), \\\n",
    "#     ClassesDefinition(root_folders_list=ROOT_PATHS, diagnoses_names_list=['l82'], class_name='Keratin lesion', int_label=2) \\\n",
    "# ]\n",
    "# CLASSES_SET_6 = [ \\\n",
    "#    ClassesDefinition(root_folders_list=ROOT_PATHS, diagnoses_names_list=['c43'], class_name='Melanoma', int_label=0), \\\n",
    "#    ClassesDefinition(root_folders_list=ROOT_PATHS, diagnoses_names_list=['c44'], class_name='NonMelanomaCancer', int_label=1), \\\n",
    "#    ClassesDefinition(root_folders_list=ROOT_PATHS, diagnoses_names_list=['d22'], class_name='Nevuss', int_label=2) \\\n",
    "# ]\n",
    "\n",
    "# CLASSES_SET_8 = [CLS1, CLS2, CLS3, CLS4, CLS5]\n",
    "\n",
    "# VALID_CHANNELS = ['r-r', 'ir-r', 'g-g', 'uv-0-r', 'uv-0-g', 'white-g']\n",
    "VALID_CHANNELS = ['r-r', 'ir-r', 'g-g', 'uv-0-g']\n",
    "\n",
    "IMG_WIDTH = 128\n",
    "IMG_HEIGHT = 128\n",
    "VALUE_MISSING = 0\n",
    "MISSING_CH_IMG = np.ones((IMG_HEIGHT, IMG_WIDTH)) * VALUE_MISSING"
   ]
  },
  {
   "cell_type": "code",
   "execution_count": 5,
   "metadata": {},
   "outputs": [],
   "source": [
    "import logging\n",
    "logger = logging.getLogger('skin_cancer_nas__darts__attention_notebook')"
   ]
  },
  {
   "cell_type": "markdown",
   "metadata": {},
   "source": [
    "### Load model"
   ]
  },
  {
   "cell_type": "code",
   "execution_count": 6,
   "metadata": {},
   "outputs": [],
   "source": [
    "# Load model\n",
    "device = 'cpu'\n",
    "#                     /mnt/models/darts_retrained/4ch_128x128_12inchannel_no_metainfo_registered_5Fold_newC43_15Dec2020/XV2_SGD_orig_02DropChannel_5lrs_15Dec_newC43NoDup_ClassSet8_ManCorected_registered_350epochs_fold-0\n",
    "model = torch.load(\"/mnt/models/darts_retrained/4ch_128x128_12inchannel_no_metainfo_registered_5Fold_newC43_15Dec2020/XV2_SGD_orig_02DropChannel_2lrs_15Dec_newC43NoDup_ClassSet4_ManCorected_registered_350epochs_fold-3/final_model1.pt\")\n",
    "model.to(device)\n",
    "for param in model.parameters():\n",
    "    param.requires_grad = False"
   ]
  },
  {
   "cell_type": "code",
   "execution_count": 7,
   "metadata": {},
   "outputs": [],
   "source": [
    "import json\n",
    "\n",
    "log_file_path = \"/mnt/models/darts_retrained/4ch_128x128_12inchannel_no_metainfo_registered_5Fold_newC43_15Dec2020/XV2_SGD_orig_02DropChannel_2lrs_15Dec_newC43NoDup_ClassSet4_ManCorected_registered_350epochs_fold-3/model1.log.txt\"\n",
    "with open(log_file_path) as fp: \n",
    "    for line in fp: \n",
    "        if \"2020-12-18 22:07:12,514,514 nni-darts INFO partition->defaultdict(<class 'list'>, \" in line:\n",
    "            part_str = line.replace(\"2020-12-18 22:07:12,514,514 nni-darts INFO partition->defaultdict(<class 'list'>, \", '')[:-2]\n",
    "            part_str = part_str.replace(\"'\", '\"')\n",
    "#             print(part_str)\n",
    "            part_dict = json.loads(part_str)\n"
   ]
  },
  {
   "cell_type": "code",
   "execution_count": 9,
   "metadata": {},
   "outputs": [],
   "source": [
    "# part_dict"
   ]
  },
  {
   "cell_type": "code",
   "execution_count": 16,
   "metadata": {},
   "outputs": [
    {
     "data": {
      "text/plain": [
       "2"
      ]
     },
     "execution_count": 16,
     "metadata": {},
     "output_type": "execute_result"
    }
   ],
   "source": [
    "classes_num"
   ]
  },
  {
   "cell_type": "markdown",
   "metadata": {},
   "source": [
    "### Data preparation"
   ]
  },
  {
   "cell_type": "code",
   "execution_count": 10,
   "metadata": {},
   "outputs": [],
   "source": [
    "_, labels = data_gen.train_val_split(val_ratio=0.1, classes_list=CLASSES_SET_4)\n",
    "partition = part_dict\n",
    "classes_num = len(CLASSES_SET_4)\n",
    "\n",
    "\n",
    "def get_input_output_from_path(sample_path, labels):\n",
    "    '''\n",
    "    Generates one sample of data\n",
    "    '''\n",
    "    try:\n",
    "        # logger.info('Sample path={}'.format(sample_path))\n",
    "        x_out = _convert_img_to_array(sample_path)\n",
    "        x_out = x_out.astype('float32')\n",
    "        x_out /= 255\n",
    "\n",
    "        X = torch.as_tensor(x_out)\n",
    "        y = labels[str(sample_path)]\n",
    "\n",
    "        X = X.to(device)\n",
    "        y = torch.tensor(y).to(device)\n",
    "        return X, y\n",
    "    except Exception as e: \n",
    "        logger.info('Something went wrong at path={}, e={}'.format(sample_path, e))\n",
    "\n",
    "\n",
    "def _convert_img_to_array(sample_path):\n",
    "    '''Converts n grayscale images to 3D array with n channels'''\n",
    "    x_array = []\n",
    "    for channel in VALID_CHANNELS:\n",
    "        channel_path = os.path.join(sample_path, channel)\n",
    "        if not os.path.exists(channel_path):\n",
    "            x_array.append(MISSING_CH_IMG)\n",
    "            continue\n",
    "        image = os.listdir(channel_path)\n",
    "        if not image:\n",
    "            x_array.append(MISSING_CH_IMG)\n",
    "            continue\n",
    "        full_image_path = os.path.join(channel_path, image[0])\n",
    "        img = cv2.imread(full_image_path, flags=cv2.IMREAD_GRAYSCALE)\n",
    "        if img is None:\n",
    "            x_array.append(MISSING_CH_IMG)\n",
    "            continue\n",
    "        else:\n",
    "            shape = img.shape\n",
    "            # logger.info(shape)\n",
    "            img = cv2.resize(img, (IMG_HEIGHT, IMG_WIDTH), interpolation=cv2.INTER_CUBIC)\n",
    "\n",
    "        x_array.append(img)\n",
    "\n",
    "    return np.stack(x_array, axis=0)"
   ]
  },
  {
   "cell_type": "markdown",
   "metadata": {},
   "source": [
    "! IMPORTANT ! - for now we don't have any image transformations (like normalization), but once they will be - they have to be added here!"
   ]
  },
  {
   "cell_type": "code",
   "execution_count": 11,
   "metadata": {},
   "outputs": [],
   "source": [
    "X, y = get_input_output_from_path(sample_path=partition['validation'][0], labels=labels)\n",
    "# X.requires_grad_()"
   ]
  },
  {
   "cell_type": "code",
   "execution_count": 15,
   "metadata": {},
   "outputs": [
    {
     "data": {
      "text/plain": [
       "torch.Size([4, 128, 128])"
      ]
     },
     "execution_count": 15,
     "metadata": {},
     "output_type": "execute_result"
    }
   ],
   "source": [
    "X.shape"
   ]
  },
  {
   "cell_type": "markdown",
   "metadata": {},
   "source": [
    "### Calculate saliency (attention) maps"
   ]
  },
  {
   "cell_type": "code",
   "execution_count": 12,
   "metadata": {},
   "outputs": [],
   "source": [
    "def get_saliencies(X, model, classes_num):\n",
    "    '''\n",
    "    inputs:\n",
    "        X: - image torch tensor (preprocessed if needed)\n",
    "        model: torch model\n",
    "        classes_num: number of classes (last layer size)\n",
    "    returns:\n",
    "        saliencies: list of activations (6, img_width, img_height), 6 channels as we have four inputs, these can be summed up for visualization\n",
    "        score_max_index: winning score index (index of saliency map (and neuron), that had highest output)\n",
    "    '''\n",
    "    # Copy input\n",
    "    X_orig = X.detach().clone()\n",
    "    \n",
    "    # we would run the model in evaluation mode\n",
    "    model.eval()\n",
    "    saliencies = []\n",
    "    for score_indx in range(classes_num):\n",
    "        X = X_orig.detach().clone()\n",
    "        # we need to find the gradient with respect to the input image, so we need to call requires_grad_ on it\n",
    "        X.requires_grad_()\n",
    "\n",
    "        '''\n",
    "        forward pass through the model to get the scores, note that VGG-19 model doesn't perform softmax at the end\n",
    "        and we also don't need softmax, we need scores, so that's perfect for us.\n",
    "        '''\n",
    "        scores = model(X.unsqueeze(0))\n",
    "\n",
    "        # Get the index corresponding to the maximum score and the maximum score itself.\n",
    "        score_max_index = scores.argmax()\n",
    "        score_to_analize = scores[0, score_indx]\n",
    "\n",
    "        '''\n",
    "        backward function on score_max performs the backward pass in the computation graph and calculates the gradient of \n",
    "        score_to_analize with respect to nodes in the computation graph\n",
    "        '''\n",
    "        score_to_analize.backward()\n",
    "\n",
    "        '''\n",
    "        Saliency would be the gradient with respect to the input image now. But note that the input image has 3 channels,\n",
    "        R, G and B. To derive a single class saliency value for each pixel (i, j),  we take the maximum magnitude\n",
    "        across all colour channels.\n",
    "        '''\n",
    "        # saliency, _ = torch.max(X.grad.data.abs(), dim=0)\n",
    "    #     saliency = torch.sum(X.grad.data.abs(), dim=0)\n",
    "        saliencies.append(X.grad.data.abs().detach().numpy())\n",
    "        \n",
    "    return saliencies, score_max_index.detach().numpy().item()"
   ]
  },
  {
   "cell_type": "code",
   "execution_count": 17,
   "metadata": {},
   "outputs": [],
   "source": [
    "saliencies, score_max_index = get_saliencies(X, model, classes_num=classes_num)"
   ]
  },
  {
   "cell_type": "code",
   "execution_count": 18,
   "metadata": {},
   "outputs": [
    {
     "data": {
      "text/plain": [
       "<matplotlib.image.AxesImage at 0x7fb2802676d8>"
      ]
     },
     "execution_count": 18,
     "metadata": {},
     "output_type": "execute_result"
    },
    {
     "data": {
      "image/png": "[encoded data removed]",
      "text/plain": [
       "<Figure size 432x288 with 1 Axes>"
      ]
     },
     "metadata": {
      "needs_background": "light"
     },
     "output_type": "display_data"
    }
   ],
   "source": [
    "imshow(np.sum(saliencies[0], axis=0), cmap=plt.cm.hot)"
   ]
  },
  {
   "cell_type": "code",
   "execution_count": 19,
   "metadata": {},
   "outputs": [
    {
     "data": {
      "text/plain": [
       "<matplotlib.image.AxesImage at 0x7fb280052b70>"
      ]
     },
     "execution_count": 19,
     "metadata": {},
     "output_type": "execute_result"
    },
    {
     "data": {
      "image/png": "[encoded data removed]",
      "text/plain": [
       "<Figure size 432x288 with 1 Axes>"
      ]
     },
     "metadata": {
      "needs_background": "light"
     },
     "output_type": "display_data"
    }
   ],
   "source": [
    "imshow(np.sum(X.numpy(), axis=0), cmap=plt.cm.hot)"
   ]
  },
  {
   "cell_type": "code",
   "execution_count": 20,
   "metadata": {},
   "outputs": [
    {
     "name": "stdout",
     "output_type": "stream",
     "text": [
      "90\n"
     ]
    },
    {
     "data": {
      "application/vnd.jupyter.widget-view+json": {
       "model_id": "2aa0ed751d554a34a9056da8f001d10d",
       "version_major": 2,
       "version_minor": 0
      },
      "text/plain": [
       "HBox(children=(FloatProgress(value=0.0, max=90.0), HTML(value='')))"
      ]
     },
     "metadata": {},
     "output_type": "display_data"
    },
    {
     "name": "stdout",
     "output_type": "stream",
     "text": [
      "\n"
     ]
    }
   ],
   "source": [
    "# Gather list of input 'image' matrices, labels and paths (for titles)\n",
    "X_list = []\n",
    "y_list = []  # y_true\n",
    "paths_list = []\n",
    "saliencies_list = []\n",
    "score_max_index_list = []  # y_pred\n",
    "len_val = len(partition['validation'])\n",
    "print(len_val)\n",
    "for i in tqdm(range(len_val)):\n",
    "    sample_path = partition['validation'][i]\n",
    "    _X, _y = get_input_output_from_path(sample_path=sample_path, labels=labels)\n",
    "    X_list.append(_X)\n",
    "    y_list.append(_y)\n",
    "    paths_list.append(sample_path)\n",
    "    \n",
    "    saliencies, score_max_index = get_saliencies(_X, model, classes_num=classes_num)\n",
    "    saliencies_list.append(saliencies)\n",
    "    score_max_index_list.append(score_max_index)"
   ]
  },
  {
   "cell_type": "code",
   "execution_count": null,
   "metadata": {},
   "outputs": [],
   "source": [
    "# Now we want to display SUMMED saliency map and SUMMED input"
   ]
  },
  {
   "cell_type": "code",
   "execution_count": 21,
   "metadata": {},
   "outputs": [
    {
     "data": {
      "application/vnd.jupyter.widget-view+json": {
       "model_id": "cc1dc2bcaba44b98872f4d3c158c0c7f",
       "version_major": 2,
       "version_minor": 0
      },
      "text/plain": [
       "HBox(children=(FloatProgress(value=1.0, bar_style='info', max=1.0), HTML(value='')))"
      ]
     },
     "metadata": {},
     "output_type": "display_data"
    },
    {
     "name": "stdout",
     "output_type": "stream",
     "text": [
      "\n"
     ]
    }
   ],
   "source": [
    "# output_root_folder = '/mnt/data/interim/saliency_debug/6ch_128x128_no_metainfo_registered_5Fold_newC43-5f/XV2_SGD_orig_02DropChannel_4lrs_2oct_ClassSet8_ManCorected_registered_fold-2_V2'\n",
    "output_root_folder = '/mnt/data/interim/saliency_debug/4ch_128x128_12inchannel_no_metainfo_registered_5Fold_newC43_15Dec2020/XV2_SGD_orig_02DropChannel_2lrs_15Dec_newC43NoDup_ClassSet4_ManCorected_registered_350epochs_fold-3_V2'\n",
    "\n",
    "i = 0\n",
    "\n",
    "class_names_dict = {0:'C43', 1:'D22'}\n",
    "\n",
    "for x, y, path, sal, score_max in tqdm(zip(X_list, y_list, paths_list, saliencies_list, score_max_index_list)):\n",
    "    \n",
    "    stacked_input_img = np.sum(x.numpy(), axis=0)\n",
    "    stacked_sal_img = np.sum(sal[score_max], axis=0) \n",
    "    \n",
    "    stacked_input_img = cv2.normalize(stacked_input_img, stacked_input_img, 1, 254, cv2.NORM_MINMAX)\n",
    "    stacked_sal_img = cv2.normalize(stacked_sal_img, stacked_sal_img, 1, 254, cv2.NORM_MINMAX)\n",
    "    \n",
    "#     print(y.numpy())\n",
    "#     print(score_max)\n",
    "    \n",
    "    subfolder_name = class_names_dict[int(str(y.numpy()))] + '_classified_as_' + class_names_dict[score_max]\n",
    "    \n",
    "    output_folder = os.path.join(output_root_folder, subfolder_name)\n",
    "    if not os.path.exists(output_folder):\n",
    "        os.makedirs(output_folder)\n",
    "    \n",
    "    \n",
    "    cv2.imwrite(os.path.join(output_folder, '{}_stacked_input_image.png'.format(i)), stacked_input_img)\n",
    "    cv2.imwrite(os.path.join(output_folder, '{}_stacked_saliency_map.png'.format(i)), stacked_sal_img)\n",
    "    \n",
    "    X_ = x.numpy()\n",
    "    for ch in range(X_.shape[0]):\n",
    "        cv2.imwrite(os.path.join(output_folder, '{}_input_image_channel{}.png'.format(i, ch)), cv2.normalize(X_[ch, :, :], X_[ch, :, :], 1, 254, cv2.NORM_MINMAX))\n",
    "        \n",
    "    S_ = sal[score_max]\n",
    "    for ch in range(S_.shape[0]):\n",
    "        cv2.imwrite(os.path.join(output_folder, '{}_saliency_map_channel{}.png'.format(i, ch)), cv2.normalize(S_[ch, :, :], S_[ch, :, :], 1, 254, cv2.NORM_MINMAX))\n",
    "    \n",
    "    i = i + 1"
   ]
  },
  {
   "cell_type": "markdown",
   "metadata": {},
   "source": [
    "## Now let's create visualizations as Ilze asked - two rows with text predicted class / actual class"
   ]
  },
  {
   "cell_type": "code",
   "execution_count": 22,
   "metadata": {},
   "outputs": [
    {
     "data": {
      "application/vnd.jupyter.widget-view+json": {
       "model_id": "b6d827d35e9144349f5e382d48a5ce2d",
       "version_major": 2,
       "version_minor": 0
      },
      "text/plain": [
       "HBox(children=(FloatProgress(value=1.0, bar_style='info', max=1.0), HTML(value='')))"
      ]
     },
     "metadata": {},
     "output_type": "display_data"
    },
    {
     "name": "stdout",
     "output_type": "stream",
     "text": [
      "\n"
     ]
    }
   ],
   "source": [
    "# output_root_folder = '/mnt/data/interim/saliency_debug/6ch_128x128_no_metainfo_registered_5Fold_newC43-5f/XV2_SGD_orig_02DropChannel_4lrs_2oct_ClassSet8_ManCorected_registered_fold-2_V3'\n",
    "output_root_folder = '/mnt/data/interim/saliency_debug/4ch_128x128_12inchannel_no_metainfo_registered_5Fold_newC43_15Dec2020/XV2_SGD_orig_02DropChannel_2lrs_15Dec_newC43NoDup_ClassSet4_ManCorected_registered_350epochs_fold-3_V3'\n",
    "\n",
    "\n",
    "i = 0\n",
    "\n",
    "class_names_dict = {0:'C43', 1:'D22'}\n",
    "\n",
    "for x, y, path, sal, score_max in tqdm(zip(X_list, y_list, paths_list, saliencies_list, score_max_index_list)):\n",
    "    \n",
    "#     stacked_input_img = x.numpy().transpose(2,0,1).reshape(x.numpy().shape[1],-1)  #np.sum(x.numpy(), axis=0)\n",
    "#     stacked_sal_img = sal[score_max].transpose(2,0,1).reshape(sal[score_max].shape[1],-1) #np.sum(sal[score_max], axis=0) \n",
    "    \n",
    "#     stacked_input_img = cv2.normalize(stacked_input_img, stacked_input_img, 1, 254, cv2.NORM_MINMAX)\n",
    "#     stacked_sal_img = cv2.normalize(stacked_sal_img, stacked_sal_img, 1, 254, cv2.NORM_MINMAX)\n",
    "    \n",
    "#     total_img = np.vstack((stacked_input_img, stacked_sal_img))\n",
    "#     total_img = cv2.putText(total_img, \"Class {}\".format(class_names_dict[int(str(y.numpy()))], (10,40), cv2.FONT_HERSHEY_SIMPLEX, 2, 255))\n",
    "#     total_img = cv2.putText(total_img, \"Predicted as {}\".format(class_names_dict[score_max], (10,60), cv2.FONT_HERSHEY_SIMPLEX, 2, 255)\n",
    "    \n",
    "    subfolder_name = class_names_dict[int(str(y.numpy()))] + '_classified_as_' + class_names_dict[score_max]\n",
    "    \n",
    "    output_folder = os.path.join(output_root_folder, subfolder_name)\n",
    "    if not os.path.exists(output_folder):\n",
    "        os.makedirs(output_folder)\n",
    "    \n",
    "    stacked_input_img = x.numpy().transpose(2,0,1).reshape(x.numpy().shape[1],-1)  #np.sum(x.numpy(), axis=0)\n",
    "    stacked_sal_img = sal[score_max].transpose(2,0,1).reshape(sal[score_max].shape[1],-1) #np.sum(sal[score_max], axis=0) \n",
    "\n",
    "    stacked_input_img = cv2.normalize(cv2.UMat(stacked_input_img), cv2.UMat(stacked_input_img), 1, 254, cv2.NORM_MINMAX)\n",
    "    stacked_sal_img = cv2.normalize(cv2.UMat(stacked_sal_img), cv2.UMat(stacked_sal_img), 1, 254, cv2.NORM_MINMAX)\n",
    "\n",
    "    total_img = np.vstack((stacked_input_img.get(), stacked_sal_img.get()))\n",
    "    total_img = np.array(total_img)\n",
    "    total_img = cv2.cvtColor(total_img,cv2.COLOR_GRAY2RGB)\n",
    "    total_img = cv2.putText(cv2.UMat(total_img), \"Actual class: {}\".format(class_names_dict[int(str(y.numpy()))]), (10,20), cv2.FONT_HERSHEY_SIMPLEX, fontScale=0.5, color=(0,0,250), thickness=1)\n",
    "    total_img = cv2.putText(total_img, \"Predicted class: {}\".format(class_names_dict[score_max]), (10,45), cv2.FONT_HERSHEY_SIMPLEX, fontScale=.5, color=(0,0,250), thickness=1)\n",
    "    total_img = total_img.get()\n",
    "    \n",
    "    \n",
    "    cv2.imwrite(os.path.join(output_folder, '{}_combined_saliency_image.png'.format(i)), total_img)\n",
    "    \n",
    "    i = i + 1"
   ]
  },
  {
   "cell_type": "code",
   "execution_count": null,
   "metadata": {},
   "outputs": [],
   "source": []
  },
  {
   "cell_type": "code",
   "execution_count": null,
   "metadata": {},
   "outputs": [],
   "source": []
  },
  {
   "cell_type": "code",
   "execution_count": null,
   "metadata": {},
   "outputs": [],
   "source": [
    "stacked_input_img = x.numpy().transpose(2,0,1).reshape(x.numpy().shape[1],-1)  #np.sum(x.numpy(), axis=0)\n",
    "stacked_sal_img = sal[score_max].transpose(2,0,1).reshape(sal[score_max].shape[1],-1) #np.sum(sal[score_max], axis=0) \n",
    "\n",
    "stacked_input_img = cv2.normalize(cv2.UMat(stacked_input_img), cv2.UMat(stacked_input_img), 1, 254, cv2.NORM_MINMAX)\n",
    "stacked_sal_img = cv2.normalize(cv2.UMat(stacked_sal_img), cv2.UMat(stacked_sal_img), 1, 254, cv2.NORM_MINMAX)\n",
    "\n",
    "total_img = np.vstack((stacked_input_img.get(), stacked_sal_img.get()))\n",
    "total_img = np.array(total_img)\n",
    "total_img = cv2.cvtColor(total_img,cv2.COLOR_GRAY2RGB)\n",
    "total_img = cv2.putText(cv2.UMat(total_img), \"Actual class: {}\", (10,20), cv2.FONT_HERSHEY_SIMPLEX, fontScale=0.5, color=(0,0,250), thickness=1)\n",
    "total_img = cv2.putText(total_img, \"Predicted class: {}\", (10,45), cv2.FONT_HERSHEY_SIMPLEX, fontScale=.5, color=(0,0,250), thickness=1)\n",
    "total_img = total_img.get()"
   ]
  },
  {
   "cell_type": "code",
   "execution_count": null,
   "metadata": {},
   "outputs": [],
   "source": [
    "cv2.imwrite('/mnt/notebooks/tmp_combined_saliency_vx2.png', total_img)"
   ]
  },
  {
   "cell_type": "code",
   "execution_count": null,
   "metadata": {},
   "outputs": [],
   "source": [
    "fig = plt.figure(figsize=(6, 6), dpi=300)\n",
    "imshow(total_img)"
   ]
  },
  {
   "cell_type": "code",
   "execution_count": null,
   "metadata": {},
   "outputs": [],
   "source": [
    "imshow(x.numpy()[0,:,:])"
   ]
  },
  {
   "cell_type": "code",
   "execution_count": null,
   "metadata": {},
   "outputs": [],
   "source": [
    "imshow(x.numpy()[3,:,:])"
   ]
  },
  {
   "cell_type": "code",
   "execution_count": null,
   "metadata": {},
   "outputs": [],
   "source": [
    "imshow(sal[score_max].transpose(2,0,1).reshape(sal[score_max].shape[1],-1))"
   ]
  },
  {
   "cell_type": "code",
   "execution_count": null,
   "metadata": {},
   "outputs": [],
   "source": []
  }
 ],
 "metadata": {
  "kernelspec": {
   "display_name": "Python 3",
   "language": "python",
   "name": "python3"
  },
  "language_info": {
   "codemirror_mode": {
    "name": "ipython",
    "version": 3
   },
   "file_extension": ".py",
   "mimetype": "text/x-python",
   "name": "python",
   "nbconvert_exporter": "python",
   "pygments_lexer": "ipython3",
   "version": "3.6.9"
  }
 },
 "nbformat": 4,
 "nbformat_minor": 4
}
